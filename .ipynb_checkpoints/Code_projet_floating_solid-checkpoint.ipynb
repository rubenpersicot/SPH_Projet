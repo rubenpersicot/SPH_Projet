{
 "cells": [
  {
   "cell_type": "markdown",
   "metadata": {},
   "source": [
    "# <center> École des Ponts ParisTech</center>\n",
    "## <center> SPH pour l'hydraulique </center>\n",
    "### <center> Projet SPH GMM 2021</center>\n",
    "#### <center> Parois mobiles  </center>\n",
    "<center> Ruben Persicot & Yohan Lanier </center>\n",
    "\n",
    "\n",
    "<center> Encadrants : Rémi Carmigniani et Damien Violeau </center>"
   ]
  },
  {
   "cell_type": "code",
   "execution_count": 1,
   "metadata": {},
   "outputs": [],
   "source": [
    "%load_ext autoreload\n",
    "%autoreload 2\n",
    "import numpy as np\n",
    "from sys import exit\n",
    "import os.path\n",
    "from os import path\n",
    "import csv\n",
    "import time\n",
    "import matplotlib\n",
    "import matplotlib.pyplot as plt\n",
    "matplotlib.rcParams['text.usetex'] = True\n",
    "from src.spyh import *\n",
    "from src.checkTD3 import *\n",
    "from src.sphvar import *\n",
    "from src.plotParticles import *\n",
    "from src.state import *\n",
    "from src.contrib import *\n",
    "from src.analytical_solutions import *"
   ]
  },
  {
   "cell_type": "code",
   "execution_count": 2,
   "metadata": {},
   "outputs": [],
   "source": [
    "#FLUID PARAMETERS \n",
    "e = 0.5 #half width in meters\n",
    "U = 1 # Upper bound velocity\n",
    "Re = 1 # Reynolds number\n",
    "#FLUID PARAMETERS\n",
    "rhoF = 1000\n",
    "mu = rhoF*U*e/Re #(Pa.s)\n",
    "grav = np.array([0.0,-9.81])#np.array([0.0,-9.81])#np.array([0.0,0.0]) #m.s-2#OTHER FLUID PARAMETERS\n",
    "c0 = 10*U\n",
    "gamma = 7\n",
    "B = rhoF*c0**2/gamma \n",
    "#DENSITY & SHEPARD THRESHOLDS : \n",
    "shepardMin = 10**(-6)\n",
    "rhoMin = 0.5*rhoF\n",
    "rhoMax = 1.5*rhoF\n"
   ]
  },
  {
   "cell_type": "code",
   "execution_count": 3,
   "metadata": {},
   "outputs": [
    {
     "ename": "NameError",
     "evalue": "name 'ly' is not defined",
     "output_type": "error",
     "traceback": [
      "\u001b[1;31m---------------------------------------------------------------------------\u001b[0m",
      "\u001b[1;31mNameError\u001b[0m                                 Traceback (most recent call last)",
      "\u001b[1;32m<ipython-input-3-1b3535ff99b3>\u001b[0m in \u001b[0;36m<module>\u001b[1;34m\u001b[0m\n\u001b[0;32m      7\u001b[0m \u001b[0mrhoS\u001b[0m \u001b[1;33m=\u001b[0m \u001b[1;36m500\u001b[0m\u001b[1;33m\u001b[0m\u001b[1;33m\u001b[0m\u001b[0m\n\u001b[0;32m      8\u001b[0m \u001b[1;31m#PARTICLES & SPACES PARAMETERS :\u001b[0m\u001b[1;33m\u001b[0m\u001b[1;33m\u001b[0m\u001b[1;33m\u001b[0m\u001b[0m\n\u001b[1;32m----> 9\u001b[1;33m \u001b[0mdr\u001b[0m \u001b[1;33m=\u001b[0m \u001b[0mly\u001b[0m\u001b[1;33m/\u001b[0m\u001b[1;36m20\u001b[0m\u001b[1;33m\u001b[0m\u001b[1;33m\u001b[0m\u001b[0m\n\u001b[0m\u001b[0;32m     10\u001b[0m \u001b[0mh\u001b[0m \u001b[1;33m=\u001b[0m \u001b[0msmthfc\u001b[0m\u001b[1;33m*\u001b[0m\u001b[0mdr\u001b[0m\u001b[1;33m\u001b[0m\u001b[1;33m\u001b[0m\u001b[0m\n\u001b[0;32m     11\u001b[0m \u001b[0mm\u001b[0m\u001b[1;33m=\u001b[0m\u001b[0mdr\u001b[0m\u001b[1;33m*\u001b[0m\u001b[0mdr\u001b[0m\u001b[1;33m*\u001b[0m\u001b[0mrhoF\u001b[0m\u001b[1;33m\u001b[0m\u001b[1;33m\u001b[0m\u001b[0m\n",
      "\u001b[1;31mNameError\u001b[0m: name 'ly' is not defined"
     ]
    }
   ],
   "source": [
    "#GEOMETRY\n",
    "Lx = 2\n",
    "Ly = 2\n",
    "lx = 0.5\n",
    "ly=1\n",
    "#SOLID PARAMETERS\n",
    "ls = 0.4\n",
    "ws = 0.2\n",
    "rhoS = 500\n",
    "#PARTICLES & SPACES PARAMETERS : \n",
    "dr = ly/20\n",
    "h = smthfc*dr\n",
    "m=dr*dr*rhoF\n",
    "lspace = 2*h\n",
    "#COMPUTATION DOMAIN : \n",
    "xOrigin = -nBound*dr\n",
    "yOrigin = -nBound*dr\n",
    "xSize = Lx+2*nBound*dr\n",
    "ySize = Ly+2*nBound*dr\n",
    "xMax = xOrigin+xSize\n",
    "yMax = yOrigin+ySize\n",
    "#INIT SPACES & PART:\n",
    "posSpace,neibSpace,partSpace,listNeibSpace = \\\n",
    "init_spaces(xOrigin,yOrigin,xSize,ySize,lspace,dr)\n",
    "part = init_particles()"
   ]
  },
  {
   "cell_type": "code",
   "execution_count": null,
   "metadata": {},
   "outputs": [],
   "source": [
    "#INIT PART:\n",
    "#% COMPLETE HERE\n",
    "part = addBox(part,[Lx,Ly/2],FLUID,dr,rhoF)\n",
    "part = addBox(part,[-nBound*dr,-nBound*dr,Lx+2*nBound*dr,nBound*dr],BOUND,dr,rhoF)\n",
    "part = addBox(part,[-nBound*dr,0,nBound*dr,Ly],BOUND,dr,rhoF)\n",
    "part = addBox(part,[Lx,0,nBound*dr,Ly],BOUND,dr,rhoF)\n",
    "part = addBox(part,[(Lx-ws)/2, (Ly-ls), ws, ls], MOBILESOLID, dr, rhoS)\n",
    "# END"
   ]
  },
  {
   "cell_type": "code",
   "execution_count": null,
   "metadata": {},
   "outputs": [],
   "source": [
    "%matplotlib notebook\n",
    "Umax= 1\n",
    "tabUx = part[:,VEL[0]]\n",
    "domain = [xOrigin,xMax,yOrigin,yMax,0,Umax]\n",
    "plotPropertiesWithBound(part,tabUx,r'$U_x$',domain,dr,1)"
   ]
  },
  {
   "cell_type": "code",
   "execution_count": null,
   "metadata": {},
   "outputs": [],
   "source": [
    "plotSpaces(posSpace,'k',lspace,1)\n",
    "neibSpace[2][neibSpace[2]>-1]\n",
    "spacesOutline(posSpace[neibSpace[2][neibSpace[2]>-1]],'r',lspace,1)"
   ]
  },
  {
   "cell_type": "markdown",
   "metadata": {},
   "source": [
    "Initialisation de la pression"
   ]
  },
  {
   "cell_type": "code",
   "execution_count": null,
   "metadata": {},
   "outputs": [],
   "source": [
    "def initWaterPressure(part):\n",
    "    infoTab = part[:,INFO]\n",
    "    y_i = part[infoTab == FLUID] [:,POS[1]]\n",
    "    p_i = 9.81*rhoF*(Ly/2-y_i)\n",
    "    rho_i = density(p_i,B,rhoF,gamma)\n",
    "    part[infoTab == FLUID, RHO] = rho_i\n",
    "    return part"
   ]
  },
  {
   "cell_type": "code",
   "execution_count": null,
   "metadata": {},
   "outputs": [],
   "source": [
    "part = initWaterPressure(part)\n",
    "tabPres = pressure(part[:,RHO],B,rhoF,gamma)\n",
    "print(tabPres)\n",
    "%matplotlib notebook\n",
    "Pmax= rhoF*np.linalg.norm(grav)*Ly/2\n",
    "tabPres = pressure(part[:,RHO],B,rhoF,gamma)\n",
    "domain = [xOrigin,xMax,yOrigin,yMax,0,Pmax]\n",
    "plotPropertiesWithBound(part,tabPres,r'Pressure',domain,dr,1)"
   ]
  },
  {
   "cell_type": "code",
   "execution_count": null,
   "metadata": {},
   "outputs": [],
   "source": []
  }
 ],
 "metadata": {
  "kernelspec": {
   "display_name": "Python 3",
   "language": "python",
   "name": "python3"
  },
  "language_info": {
   "codemirror_mode": {
    "name": "ipython",
    "version": 3
   },
   "file_extension": ".py",
   "mimetype": "text/x-python",
   "name": "python",
   "nbconvert_exporter": "python",
   "pygments_lexer": "ipython3",
   "version": "3.8.5"
  }
 },
 "nbformat": 4,
 "nbformat_minor": 4
}
